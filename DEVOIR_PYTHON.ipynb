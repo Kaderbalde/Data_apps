{
  "nbformat": 4,
  "nbformat_minor": 0,
  "metadata": {
    "colab": {
      "provenance": [],
      "authorship_tag": "ABX9TyNa1sso+yy0I67uMnyqNEuK",
      "include_colab_link": true
    },
    "kernelspec": {
      "name": "python3",
      "display_name": "Python 3"
    },
    "language_info": {
      "name": "python"
    }
  },
  "cells": [
    {
      "cell_type": "markdown",
      "metadata": {
        "id": "view-in-github",
        "colab_type": "text"
      },
      "source": [
        "<a href=\"https://colab.research.google.com/github/Kaderbalde/Data_apps/blob/main/DEVOIR_PYTHON.ipynb\" target=\"_parent\"><img src=\"https://colab.research.google.com/assets/colab-badge.svg\" alt=\"Open In Colab\"/></a>"
      ]
    },
    {
      "cell_type": "code",
      "execution_count": 31,
      "metadata": {
        "colab": {
          "base_uri": "https://localhost:8080/"
        },
        "id": "4j6yMWLjb3dA",
        "outputId": "036d912e-1e00-4fc7-ced2-ffa69d0b9cf1"
      },
      "outputs": [
        {
          "output_type": "stream",
          "name": "stdout",
          "text": [
            "Le nombre manquant est : 4\n"
          ]
        }
      ],
      "source": [
        "#Exercice 3\n",
        "import sqlite3\n",
        "#première solution\n",
        "def trouver_nombre_manquant(tableau):\n",
        "    somme_1 = (len(tableau) + 1) * (tableau[0] + tableau[-1]) // 2\n",
        "    somme_2 = sum(tableau)\n",
        "    nombre_manquant = somme_1 - somme_2\n",
        "\n",
        "    # Stockage dans SQLite\n",
        "    conn = sqlite3.connect('database.db')\n",
        "    cursor = conn.cursor()\n",
        "    cursor.execute(\"CREATE TABLE IF NOT EXISTS nombres_manquants (nombre INTEGER)\")\n",
        "    cursor.execute(\"INSERT INTO nombres_manquants (nombre) VALUES (?)\", (nombre_manquant,))\n",
        "    conn.commit()\n",
        "    conn.close()\n",
        "\n",
        "    return nombre_manquant\n",
        "# Exemple d'utilisation\n",
        "tableau_exemple = [1, 2, 3, 5, 6, 7, 8]\n",
        "print(\"Le nombre manquant est :\", trouver_nombre_manquant(tableau_exemple))\n",
        "\n"
      ]
    },
    {
      "cell_type": "code",
      "source": [
        "#deuxième solution\n",
        "import sqlite3\n",
        "\n",
        "def trouver_nombre_manquant(tableau):\n",
        "    for i in range(len(tableau) - 1):\n",
        "        if tableau[i+1] - tableau[i] > 1:\n",
        "            nombre_manquant = tableau[i] + 1\n",
        "\n",
        "            # Stockage dans SQLite\n",
        "            conn = sqlite3.connect('database.db')\n",
        "            cursor = conn.cursor()\n",
        "            cursor.execute(\"CREATE TABLE IF NOT EXISTS nombres_manquants (nombre INTEGER)\")\n",
        "            cursor.execute(\"INSERT INTO nombres_manquants (nombre) VALUES (?)\", (nombre_manquant,))\n",
        "            conn.commit()\n",
        "            conn.close()\n",
        "\n",
        "            return nombre_manquant\n",
        "\n",
        "# Exemple d'utilisation\n",
        "tableau_exemple = [1, 2, 3, 5, 6, 7, 8]\n",
        "print(\"Le nombre manquant est :\", trouver_nombre_manquant(tableau_exemple))\n"
      ],
      "metadata": {
        "colab": {
          "base_uri": "https://localhost:8080/"
        },
        "id": "RdIONn4jcFWw",
        "outputId": "4a0340b1-12a5-4aca-9b0c-df0f01d48e52"
      },
      "execution_count": 20,
      "outputs": [
        {
          "output_type": "stream",
          "name": "stdout",
          "text": [
            "Le nombre manquant est : 4\n"
          ]
        }
      ]
    },
    {
      "cell_type": "code",
      "source": [
        "#EXERCICE 1\n",
        "def transform(liste_chaines):\n",
        "    chaine1, chaine2 = liste_chaines\n",
        "    entiers_chaine1 = set(map(int, chaine1.split()))\n",
        "    entiers_chaine2 = set(map(int, chaine2.split()))\n",
        "    entiers_uniques = sorted(entiers_chaine1.union(entiers_chaine2))\n",
        "    nouvelle_chaine = ' '.join(map(str, entiers_uniques))\n",
        "    return nouvelle_chaine\n",
        "\n",
        "# Exemple d'utilisation\n",
        "liste_exemple = [\"1 3 5 7\", \"2 4 6 8\"]\n",
        "resultat = transform(liste_exemple)\n",
        "print(\"Le résultat est :\", resultat)\n"
      ],
      "metadata": {
        "colab": {
          "base_uri": "https://localhost:8080/"
        },
        "id": "K5ibNnIeeVl0",
        "outputId": "a6d2e4d5-e25f-4ceb-e00a-e7e961c920de"
      },
      "execution_count": 21,
      "outputs": [
        {
          "output_type": "stream",
          "name": "stdout",
          "text": [
            "Le résultat est : 1 2 3 4 5 6 7 8\n"
          ]
        }
      ]
    },
    {
      "cell_type": "code",
      "source": [
        "def transform(liste_chaines):\n",
        "    chaine1, chaine2 = liste_chaines\n",
        "    entiers_chaine1 = set(map(int, chaine1.split()))\n",
        "    entiers_chaine2 = set(map(int, chaine2.split()))\n",
        "    entiers_uniques = sorted(entiers_chaine1.union(entiers_chaine2))\n",
        "    nouvelle_chaine = ' '.join(map(str, entiers_uniques))\n",
        "\n",
        "    # Vos informations\n",
        "    nom = \"BALDE\"\n",
        "    prenom = \"MAMADOU CIRE KADER\"\n",
        "    classe = \"MASTER IA\"\n",
        "\n",
        "    return f\"{nom} {prenom} {classe} {nouvelle_chaine}\"\n",
        "\n",
        "# Exemple d'utilisation\n",
        "liste_exemple = [\"1 3 5 7\", \"2 4 6 8\"]\n",
        "resultat = transform(liste_exemple)\n",
        "print(\"Le résultat est :\", resultat)\n"
      ],
      "metadata": {
        "colab": {
          "base_uri": "https://localhost:8080/"
        },
        "id": "5U8BL8JPeb7U",
        "outputId": "f48c9fd4-4f41-4e5c-e229-fb34df675f24"
      },
      "execution_count": 22,
      "outputs": [
        {
          "output_type": "stream",
          "name": "stdout",
          "text": [
            "Le résultat est : BALDE MAMADOU CIRE KADER MASTER IA 1 2 3 4 5 6 7 8\n"
          ]
        }
      ]
    },
    {
      "cell_type": "code",
      "source": [
        "#Prémière solution\n",
        "#Solution 1 : Utiliser les informations fournies directement dans la fonction transform\n",
        "def transform(chain):\n",
        "    nom = \"BALDE\"\n",
        "    prenom = \"MAMADOU CIRE KADER\"\n",
        "    classe = \"MASTER I A\"\n",
        "\n",
        "    # Extraction des entiers uniques des deux chaînes\n",
        "    entiers_chaines = set(chain[0].split(', ') + chain[1].split(', '))\n",
        "    entiers_uniques = sorted(entiers_chaines)\n",
        "\n",
        "    # Formation de la nouvelle chaîne avec les entiers uniques\n",
        "    nouvelle_chaine = ','.join(entiers_uniques)\n",
        "\n",
        "    return f\"{nouvelle_chaine}:{nom}_{prenom}_{classe}\"\n",
        "\n",
        "# Exemples d'utilisation\n",
        "arr1 = [\"1, 3, 4, 7, 13\", \"1, 2, 4, 13, 15\"]\n",
        "out = transform(arr1)\n",
        "print(out)  # doit afficher ---> 1,13,15,2,3,4,7:nom_prenom_classe\n",
        "\n",
        "arr3 = [\"9, 3, 5, 7, 14\", \"10, 2, 6, 16, 15\"]\n",
        "out = transform(arr3)\n",
        "print(out)  # doit afficher ---> 10,14,15,16,2,3,5,6,7,9:nom_prenom_classe\n"
      ],
      "metadata": {
        "colab": {
          "base_uri": "https://localhost:8080/"
        },
        "id": "v53DXmNCe5Dj",
        "outputId": "6a60c358-493e-47cd-b6bb-84dd10258b39"
      },
      "execution_count": 23,
      "outputs": [
        {
          "output_type": "stream",
          "name": "stdout",
          "text": [
            "1,13,15,2,3,4,7:BALDE_MAMADOU CIRE KADER_MASTER I A\n",
            "10,14,15,16,2,3,5,6,7,9:BALDE_MAMADOU CIRE KADER_MASTER I A\n"
          ]
        }
      ]
    },
    {
      "cell_type": "code",
      "source": [
        "#Solution 2 : Passer les informations nom, prénom et classe en tant que paramètres de la fonction transform :\n",
        "def transform(chain, nom, prenom, classe):\n",
        "    # Extraction des entiers uniques des deux chaînes\n",
        "    entiers_chaines = set(chain[0].split(', ') + chain[1].split(', '))\n",
        "    entiers_uniques = sorted(entiers_chaines)\n",
        "\n",
        "    # Formation de la nouvelle chaîne avec les entiers uniques\n",
        "    nouvelle_chaine = ','.join(entiers_uniques)\n",
        "\n",
        "    return f\"{nouvelle_chaine}:{nom}_{prenom}_{classe}\"\n",
        "\n",
        "# Exemples d'utilisation\n",
        "arr1 = [\"1, 3, 4, 7, 13\", \"1, 2, 4, 13, 15\"]\n",
        "out = transform(arr1, \"BALDE\", \"MAMADOU CIRE KADER\", \"MASTER 1 IA\")\n",
        "print(out)  # doit afficher ---> 1,13,15,2,3,4,7:nom_prenom_classe\n",
        "\n",
        "arr3 = [\"9, 3, 5, 7, 14\", \"10, 2, 6, 16, 15\"]\n",
        "out = transform(arr3, \"BALDE\", \"MAMADOU CIRE KADER\", \"MASTER 1 IA\")\n",
        "print(out)  # doit afficher ---> 10,14,15,16,2,3,5,6,7,9:nom_prenom_classe\n"
      ],
      "metadata": {
        "colab": {
          "base_uri": "https://localhost:8080/"
        },
        "id": "8-wwTQttfTtI",
        "outputId": "866d1582-0283-4d2f-e222-11032666eb15"
      },
      "execution_count": 24,
      "outputs": [
        {
          "output_type": "stream",
          "name": "stdout",
          "text": [
            "1,13,15,2,3,4,7:BALDE_MAMADOU CIRE KADER_MASTER 1 IA\n",
            "10,14,15,16,2,3,5,6,7,9:BALDE_MAMADOU CIRE KADER_MASTER 1 IA\n"
          ]
        }
      ]
    },
    {
      "cell_type": "code",
      "source": [
        "#Exercice 2\n",
        "# Définition de la variable numbers\n",
        "numbers = (1, 2, 3, 4, 5, 6, 7, 8, 9)\n",
        "\n",
        "# Création de lst1\n",
        "lst1 = []\n",
        "for i in range(1200, 2000, 135):\n",
        "    lst1.append(i)\n",
        "\n",
        "# Création de lst2\n",
        "lst2 = []\n",
        "for i in lst1:\n",
        "    if i % 2 == 0:\n",
        "        lst2.append(i * 2)\n",
        "\n",
        "# Création de la liste des nombres pairs et impairs\n",
        "pairs = []\n",
        "impairs = []\n",
        "for num in numbers:\n",
        "    if num % 2 == 0:\n",
        "        pairs.append(num)\n",
        "    else:\n",
        "        impairs.append(num)\n",
        "\n",
        "# Affichage des résultats\n",
        "print(lst1)\n",
        "print(lst2)\n",
        "print(pairs)\n",
        "print(impairs)\n",
        "\n"
      ],
      "metadata": {
        "colab": {
          "base_uri": "https://localhost:8080/"
        },
        "id": "uCu16WaEgPHc",
        "outputId": "eaa40b21-cb76-41da-8ec6-6d952d52b0c5"
      },
      "execution_count": 32,
      "outputs": [
        {
          "output_type": "stream",
          "name": "stdout",
          "text": [
            "[1200, 1335, 1470, 1605, 1740, 1875]\n",
            "[2400, 2940, 3480]\n",
            "[2, 4, 6, 8]\n",
            "[1, 3, 5, 7, 9]\n"
          ]
        }
      ]
    },
    {
      "cell_type": "code",
      "source": [
        "#autre manière d’additionner deux nombres entiers\n",
        "#operateur + 1\n",
        "import operator\n",
        "a = 5\n",
        "b = 3\n",
        "resultat = operator.add(a, b)\n",
        "print(resultat)  # Cela a 8\n",
        "\n"
      ],
      "metadata": {
        "colab": {
          "base_uri": "https://localhost:8080/"
        },
        "id": "R9th98pblblH",
        "outputId": "000d6a8b-1406-40b1-9b6e-372b461843ad"
      },
      "execution_count": 29,
      "outputs": [
        {
          "output_type": "stream",
          "name": "stdout",
          "text": [
            "8\n"
          ]
        }
      ]
    },
    {
      "cell_type": "code",
      "source": [
        "#opérateur + 2\n",
        "resultat = a + b\n",
        "print(resultat)  # Cela affiche 8\n"
      ],
      "metadata": {
        "colab": {
          "base_uri": "https://localhost:8080/"
        },
        "id": "xtlXckInl7Jb",
        "outputId": "9fed69a7-d58b-41b9-95c1-9ef500b947ae"
      },
      "execution_count": 30,
      "outputs": [
        {
          "output_type": "stream",
          "name": "stdout",
          "text": [
            "8\n"
          ]
        }
      ]
    }
  ]
}