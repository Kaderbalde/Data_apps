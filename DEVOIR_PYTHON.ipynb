{
  "nbformat": 4,
  "nbformat_minor": 0,
  "metadata": {
    "colab": {
      "provenance": [],
      "authorship_tag": "ABX9TyPGugwA7bBXFP4JyML5efhg",
      "include_colab_link": true
    },
    "kernelspec": {
      "name": "python3",
      "display_name": "Python 3"
    },
    "language_info": {
      "name": "python"
    }
  },
  "cells": [
    {
      "cell_type": "markdown",
      "metadata": {
        "id": "view-in-github",
        "colab_type": "text"
      },
      "source": [
        "<a href=\"https://colab.research.google.com/github/Kaderbalde/Data_apps/blob/main/DEVOIR_PYTHON.ipynb\" target=\"_parent\"><img src=\"https://colab.research.google.com/assets/colab-badge.svg\" alt=\"Open In Colab\"/></a>"
      ]
    },
    {
      "cell_type": "code",
      "execution_count": 1,
      "metadata": {
        "colab": {
          "base_uri": "https://localhost:8080/"
        },
        "id": "4j6yMWLjb3dA",
        "outputId": "2143d77a-448a-4ec5-86f3-76db36d7f6f3"
      },
      "outputs": [
        {
          "output_type": "stream",
          "name": "stdout",
          "text": [
            "Le nombre manquant est : 4\n"
          ]
        }
      ],
      "source": [
        "import sqlite3\n",
        "#première solution\n",
        "def trouver_nombre_manquant(tableau):\n",
        "    somme_attendue = (len(tableau) + 1) * (tableau[0] + tableau[-1]) // 2\n",
        "    somme_reelle = sum(tableau)\n",
        "    nombre_manquant = somme_attendue - somme_reelle\n",
        "\n",
        "    # Stockage dans SQLite\n",
        "    conn = sqlite3.connect('database.db')\n",
        "    cursor = conn.cursor()\n",
        "    cursor.execute(\"CREATE TABLE IF NOT EXISTS nombres_manquants (nombre INTEGER)\")\n",
        "    cursor.execute(\"INSERT INTO nombres_manquants (nombre) VALUES (?)\", (nombre_manquant,))\n",
        "    conn.commit()\n",
        "    conn.close()\n",
        "\n",
        "    return nombre_manquant\n",
        "\n",
        "# Exemple d'utilisation\n",
        "tableau_exemple = [1, 2, 3, 5, 6, 7, 8]\n",
        "print(\"Le nombre manquant est :\", trouver_nombre_manquant(tableau_exemple))\n"
      ]
    },
    {
      "cell_type": "code",
      "source": [
        "#deuxième solution\n",
        "import sqlite3\n",
        "\n",
        "def trouver_nombre_manquant(tableau):\n",
        "    for i in range(len(tableau) - 1):\n",
        "        if tableau[i+1] - tableau[i] > 1:\n",
        "            nombre_manquant = tableau[i] + 1\n",
        "\n",
        "            # Stockage dans SQLite\n",
        "            conn = sqlite3.connect('database.db')\n",
        "            cursor = conn.cursor()\n",
        "            cursor.execute(\"CREATE TABLE IF NOT EXISTS nombres_manquants (nombre INTEGER)\")\n",
        "            cursor.execute(\"INSERT INTO nombres_manquants (nombre) VALUES (?)\", (nombre_manquant,))\n",
        "            conn.commit()\n",
        "            conn.close()\n",
        "\n",
        "            return nombre_manquant\n",
        "\n",
        "# Exemple d'utilisation\n",
        "tableau_exemple = [1, 2, 3, 5, 6, 7, 8]\n",
        "print(\"Le nombre manquant est :\", trouver_nombre_manquant(tableau_exemple))\n"
      ],
      "metadata": {
        "colab": {
          "base_uri": "https://localhost:8080/"
        },
        "id": "RdIONn4jcFWw",
        "outputId": "94c71abf-ae62-461e-f414-28755050a434"
      },
      "execution_count": 2,
      "outputs": [
        {
          "output_type": "stream",
          "name": "stdout",
          "text": [
            "Le nombre manquant est : 4\n"
          ]
        }
      ]
    }
  ]
}